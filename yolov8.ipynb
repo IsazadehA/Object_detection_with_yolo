{
 "cells": [
  {
   "cell_type": "code",
   "execution_count": 9,
   "metadata": {},
   "outputs": [],
   "source": [
    "import os\n",
    "for dirname, _, filenames in os.walk('/kaggle/working'):\n",
    "    for filename in filenames:\n",
    "        print(os.path.join(dirname, filename))\n",
    "\n",
    "# You can write up to 20GB to the current directory (/kaggle/working/) that gets preserved as output when you create a version using \"Save & Run All\" \n",
    "# You can also write temporary files to /kaggle/temp/, but they won't be saved outside of the current session"
   ]
  },
  {
   "cell_type": "code",
   "execution_count": 7,
   "metadata": {},
   "outputs": [
    {
     "name": "stdout",
     "output_type": "stream",
     "text": [
      "in local environment.\n"
     ]
    }
   ],
   "source": [
    "# check if os.environ has a key named 'KAGGLE_CONFIG_DIR'\n",
    "if 'KAGGLE_URL_BASE' in os.environ:\n",
    "    print('in kaggle environment.')\n",
    "    config_template_dir = '/kaggle/working/Object_detection_with_yolo/config_template.yaml'\n",
    "    config_dir = '/kaggle/working/Object_detection_with_yolo/config_kaggle.yaml'\n",
    "    data_dir = '/kaggle/working/input_data_for_object_detection/'\n",
    "else:\n",
    "    print('in local environment.')\n",
    "    config_template_dir = 'config_template.yaml'\n",
    "    config_dir = 'config_local.yaml'\n",
    "    data_dir = os.getcwd() + '\\input_data_for_object_detection'"
   ]
  },
  {
   "cell_type": "code",
   "execution_count": null,
   "metadata": {},
   "outputs": [],
   "source": [
    "# Download the repo from github\n",
    "# if there is a folder named Object_detection_with_yolo remove the whole folder and subfolders with shutil.rmtree\n",
    "import shutil\n",
    "if os.path.exists('Object_detection_with_yolo'):\n",
    "    print('Object_detection_with_yolo folder exists, removing the folder')\n",
    "    shutil.rmtree('Object_detection_with_yolo')\n",
    "# !git clone https://github.com/IsazadehA/Object_detection_with_yolo.git"
   ]
  },
  {
   "cell_type": "code",
   "execution_count": null,
   "metadata": {},
   "outputs": [],
   "source": [
    "# Download the dataset\n",
    "# !git clone https://github.com/IsazadehA/input_data_for_object_detection.git"
   ]
  },
  {
   "cell_type": "code",
   "execution_count": 8,
   "metadata": {},
   "outputs": [
    {
     "name": "stdout",
     "output_type": "stream",
     "text": [
      "path: c:\\Users\\TheJuice\\Documents\\GitHub\\Object_detection_with_yolo\\input_data_for_object_detection  # dataset root dir\n",
      "train: train/images  # train images (relative to 'path') \n",
      "val: val/images  # val images (relative to 'path') \n",
      "test: test/images  # \n",
      "\n",
      "#classes names\n",
      "#replace all class names list with your classes names\n",
      "names: ['3', '4', '5', '6', '7', '8', '9', '10', '11', '12', 'dice1', 'dice2', 'dice3', 'dice4', 'dice6', '2', 'dice5']\n",
      "\n",
      "\n",
      "# Classes\n",
      "# names:\n",
      "#   0: 3\n",
      "#   1: 4\n",
      "#   2: 5\n",
      "#   3: 6\n",
      "#   4: 7\n",
      "#   5: 8\n",
      "#   6: 9\n",
      "#   7: 10\n",
      "#   8: 11\n",
      "#   9: 12\n",
      "#   10: dice1\n",
      "#   11: dice2\n",
      "#   12: dice3\n",
      "#   13: dice4\n",
      "#   14: dice6\n",
      "#   15: 2\n",
      "#   16: dice5\n",
      "\n"
     ]
    }
   ],
   "source": [
    "# Build config_kaggle or config_local file based on the config.yaml (template) file:\n",
    "import os\n",
    "\n",
    "with open(config_template_dir, 'r') as f:\n",
    "    config = f.read()\n",
    "config = config.replace('directory_of_input_images', data_dir)\n",
    "\n",
    "with open(config_dir, 'w') as f:\n",
    "    f.write(config)\n",
    "\n",
    "print(config)"
   ]
  },
  {
   "cell_type": "code",
   "execution_count": null,
   "metadata": {},
   "outputs": [],
   "source": [
    "# !pip install comet_ml\n",
    "# !pip install ultralytics"
   ]
  },
  {
   "cell_type": "code",
   "execution_count": null,
   "metadata": {},
   "outputs": [],
   "source": [
    "# import comet_ml at the top of your file\n",
    "import comet_ml \n",
    "comet_ml.init(api_key=\"VIzX2SHUGJOdeC1frpFVULtMP\",\n",
    "                project_name=\"catanyolov8\",\n",
    "                workspace=\"isazadeh\"\n",
    ")"
   ]
  },
  {
   "cell_type": "code",
   "execution_count": null,
   "metadata": {},
   "outputs": [],
   "source": [
    "import torch\n",
    "from ultralytics import YOLO\n",
    "import cv2\n",
    "print(f\"using GPU: {torch.cuda.is_available()}\")\n",
    "\n",
    "# Create model from scratch\n",
    "# model = YOLO('yolov8n.yaml')\n",
    "\n",
    "## Load a model\n",
    "model = YOLO('yolov8n.pt')  # load a pretrained model (recommended for training)"
   ]
  },
  {
   "cell_type": "code",
   "execution_count": null,
   "metadata": {},
   "outputs": [],
   "source": [
    "## Train a model on a custom dataset\n",
    "results = model.train(data=config_dir, epochs=1, batch=8, device=0)"
   ]
  },
  {
   "cell_type": "code",
   "execution_count": null,
   "metadata": {},
   "outputs": [],
   "source": [
    "## zipping the results folder (if you want to download it)\n",
    "import os\n",
    "import shutil\n",
    "from IPython.display import FileLink\n",
    "\n",
    "Path = os.path.join(\"runs\")\n",
    "print(Path)\n",
    "shutil.make_archive(f\"{Path}\", 'zip', Path) # (output_filename, 'zip', dir_name)\n",
    "FileLink(r'runs.zip')"
   ]
  },
  {
   "cell_type": "code",
   "execution_count": null,
   "metadata": {},
   "outputs": [],
   "source": [
    "## shutil.rmtree(Path)"
   ]
  },
  {
   "cell_type": "code",
   "execution_count": null,
   "metadata": {},
   "outputs": [],
   "source": [
    "## os.remove(f\"{Path}.zip\")"
   ]
  }
 ],
 "metadata": {
  "kernelspec": {
   "display_name": "yolov8",
   "language": "python",
   "name": "python3"
  },
  "language_info": {
   "codemirror_mode": {
    "name": "ipython",
    "version": 3
   },
   "file_extension": ".py",
   "mimetype": "text/x-python",
   "name": "python",
   "nbconvert_exporter": "python",
   "pygments_lexer": "ipython3",
   "version": "3.11.2"
  },
  "orig_nbformat": 4
 },
 "nbformat": 4,
 "nbformat_minor": 2
}
